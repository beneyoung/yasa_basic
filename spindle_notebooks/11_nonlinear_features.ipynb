{
  "cells": [
    {
      "cell_type": "markdown",
      "source": [
        "##### install yasa & antropy "
      ],
      "metadata": {
        "id": "2zfSDhnzbsem"
      }
    },
    {
      "cell_type": "code",
      "source": [
        "!pip install --upgrade yasa\n",
        "!pip install --upgrade antropy"
      ],
      "metadata": {
        "id": "ROtbT_zTbvAj",
        "outputId": "66d02b79-841e-4e9b-8841-360cdcead246",
        "colab": {
          "base_uri": "https://localhost:8080/"
        }
      },
      "execution_count": 1,
      "outputs": [
        {
          "output_type": "stream",
          "name": "stdout",
          "text": [
            "Looking in indexes: https://pypi.org/simple, https://us-python.pkg.dev/colab-wheels/public/simple/\n",
            "Collecting yasa\n",
            "  Downloading yasa-0.6.2.tar.gz (33.8 MB)\n",
            "\u001b[K     |████████████████████████████████| 33.8 MB 123 kB/s \n",
            "\u001b[?25hRequirement already satisfied: numpy>=1.16.5 in /usr/local/lib/python3.7/dist-packages (from yasa) (1.21.6)\n",
            "Requirement already satisfied: scipy in /usr/local/lib/python3.7/dist-packages (from yasa) (1.7.3)\n",
            "Requirement already satisfied: pandas in /usr/local/lib/python3.7/dist-packages (from yasa) (1.3.5)\n",
            "Requirement already satisfied: matplotlib in /usr/local/lib/python3.7/dist-packages (from yasa) (3.2.2)\n",
            "Requirement already satisfied: seaborn in /usr/local/lib/python3.7/dist-packages (from yasa) (0.11.2)\n",
            "Collecting mne>=0.23\n",
            "  Downloading mne-1.1.1-py3-none-any.whl (7.5 MB)\n",
            "\u001b[K     |████████████████████████████████| 7.5 MB 36.2 MB/s \n",
            "\u001b[?25hRequirement already satisfied: numba in /usr/local/lib/python3.7/dist-packages (from yasa) (0.56.2)\n",
            "Collecting outdated\n",
            "  Downloading outdated-0.2.1-py3-none-any.whl (7.5 kB)\n",
            "Collecting antropy\n",
            "  Downloading antropy-0.1.4.tar.gz (16 kB)\n",
            "Requirement already satisfied: scikit-learn in /usr/local/lib/python3.7/dist-packages (from yasa) (1.0.2)\n",
            "Collecting tensorpac>=0.6.5\n",
            "  Downloading tensorpac-0.6.5-py3-none-any.whl (423 kB)\n",
            "\u001b[K     |████████████████████████████████| 423 kB 36.3 MB/s \n",
            "\u001b[?25hCollecting pyriemann>=0.2.7\n",
            "  Downloading pyriemann-0.3.tar.gz (365 kB)\n",
            "\u001b[K     |████████████████████████████████| 365 kB 13.1 MB/s \n",
            "\u001b[?25hCollecting sleepecg>=0.5.0\n",
            "  Downloading sleepecg-0.5.0-cp37-cp37m-manylinux_2_5_x86_64.manylinux1_x86_64.manylinux_2_17_x86_64.manylinux2014_x86_64.whl (67 kB)\n",
            "\u001b[K     |████████████████████████████████| 67 kB 3.3 MB/s \n",
            "\u001b[?25hCollecting lspopt\n",
            "  Downloading lspopt-1.2.0-py2.py3-none-any.whl (35 kB)\n",
            "Requirement already satisfied: ipywidgets in /usr/local/lib/python3.7/dist-packages (from yasa) (7.7.1)\n",
            "Requirement already satisfied: joblib in /usr/local/lib/python3.7/dist-packages (from yasa) (1.1.0)\n",
            "Requirement already satisfied: jinja2 in /usr/local/lib/python3.7/dist-packages (from mne>=0.23->yasa) (2.11.3)\n",
            "Requirement already satisfied: packaging in /usr/local/lib/python3.7/dist-packages (from mne>=0.23->yasa) (21.3)\n",
            "Requirement already satisfied: pooch>=1.5 in /usr/local/lib/python3.7/dist-packages (from mne>=0.23->yasa) (1.6.0)\n",
            "Requirement already satisfied: tqdm in /usr/local/lib/python3.7/dist-packages (from mne>=0.23->yasa) (4.64.1)\n",
            "Requirement already satisfied: decorator in /usr/local/lib/python3.7/dist-packages (from mne>=0.23->yasa) (4.4.2)\n",
            "Requirement already satisfied: requests>=2.19.0 in /usr/local/lib/python3.7/dist-packages (from pooch>=1.5->mne>=0.23->yasa) (2.23.0)\n",
            "Requirement already satisfied: appdirs>=1.3.0 in /usr/local/lib/python3.7/dist-packages (from pooch>=1.5->mne>=0.23->yasa) (1.4.4)\n",
            "Requirement already satisfied: pyparsing!=3.0.5,>=2.0.2 in /usr/local/lib/python3.7/dist-packages (from packaging->mne>=0.23->yasa) (3.0.9)\n",
            "Requirement already satisfied: urllib3!=1.25.0,!=1.25.1,<1.26,>=1.21.1 in /usr/local/lib/python3.7/dist-packages (from requests>=2.19.0->pooch>=1.5->mne>=0.23->yasa) (1.24.3)\n",
            "Requirement already satisfied: certifi>=2017.4.17 in /usr/local/lib/python3.7/dist-packages (from requests>=2.19.0->pooch>=1.5->mne>=0.23->yasa) (2022.6.15)\n",
            "Requirement already satisfied: chardet<4,>=3.0.2 in /usr/local/lib/python3.7/dist-packages (from requests>=2.19.0->pooch>=1.5->mne>=0.23->yasa) (3.0.4)\n",
            "Requirement already satisfied: idna<3,>=2.5 in /usr/local/lib/python3.7/dist-packages (from requests>=2.19.0->pooch>=1.5->mne>=0.23->yasa) (2.10)\n",
            "Requirement already satisfied: PyYAML>=5.4.0 in /usr/local/lib/python3.7/dist-packages (from sleepecg>=0.5.0->yasa) (6.0)\n",
            "Collecting requests>=2.19.0\n",
            "  Downloading requests-2.28.1-py3-none-any.whl (62 kB)\n",
            "\u001b[K     |████████████████████████████████| 62 kB 1.5 MB/s \n",
            "\u001b[?25hRequirement already satisfied: charset-normalizer<3,>=2 in /usr/local/lib/python3.7/dist-packages (from requests>=2.19.0->pooch>=1.5->mne>=0.23->yasa) (2.1.1)\n",
            "Collecting stochastic\n",
            "  Downloading stochastic-0.6.0-py3-none-any.whl (49 kB)\n",
            "\u001b[K     |████████████████████████████████| 49 kB 6.1 MB/s \n",
            "\u001b[?25hRequirement already satisfied: widgetsnbextension~=3.6.0 in /usr/local/lib/python3.7/dist-packages (from ipywidgets->yasa) (3.6.1)\n",
            "Requirement already satisfied: traitlets>=4.3.1 in /usr/local/lib/python3.7/dist-packages (from ipywidgets->yasa) (5.1.1)\n",
            "Requirement already satisfied: ipykernel>=4.5.1 in /usr/local/lib/python3.7/dist-packages (from ipywidgets->yasa) (5.3.4)\n",
            "Requirement already satisfied: jupyterlab-widgets>=1.0.0 in /usr/local/lib/python3.7/dist-packages (from ipywidgets->yasa) (3.0.3)\n",
            "Requirement already satisfied: ipython-genutils~=0.2.0 in /usr/local/lib/python3.7/dist-packages (from ipywidgets->yasa) (0.2.0)\n",
            "Requirement already satisfied: ipython>=4.0.0 in /usr/local/lib/python3.7/dist-packages (from ipywidgets->yasa) (7.9.0)\n",
            "Requirement already satisfied: tornado>=4.2 in /usr/local/lib/python3.7/dist-packages (from ipykernel>=4.5.1->ipywidgets->yasa) (5.1.1)\n",
            "Requirement already satisfied: jupyter-client in /usr/local/lib/python3.7/dist-packages (from ipykernel>=4.5.1->ipywidgets->yasa) (6.1.12)\n",
            "Requirement already satisfied: pexpect in /usr/local/lib/python3.7/dist-packages (from ipython>=4.0.0->ipywidgets->yasa) (4.8.0)\n",
            "Requirement already satisfied: setuptools>=18.5 in /usr/local/lib/python3.7/dist-packages (from ipython>=4.0.0->ipywidgets->yasa) (57.4.0)\n",
            "Requirement already satisfied: pickleshare in /usr/local/lib/python3.7/dist-packages (from ipython>=4.0.0->ipywidgets->yasa) (0.7.5)\n",
            "Requirement already satisfied: backcall in /usr/local/lib/python3.7/dist-packages (from ipython>=4.0.0->ipywidgets->yasa) (0.2.0)\n",
            "Requirement already satisfied: pygments in /usr/local/lib/python3.7/dist-packages (from ipython>=4.0.0->ipywidgets->yasa) (2.6.1)\n",
            "Collecting jedi>=0.10\n",
            "  Downloading jedi-0.18.1-py2.py3-none-any.whl (1.6 MB)\n",
            "\u001b[K     |████████████████████████████████| 1.6 MB 38.7 MB/s \n",
            "\u001b[?25hRequirement already satisfied: prompt-toolkit<2.1.0,>=2.0.0 in /usr/local/lib/python3.7/dist-packages (from ipython>=4.0.0->ipywidgets->yasa) (2.0.10)\n",
            "Requirement already satisfied: parso<0.9.0,>=0.8.0 in /usr/local/lib/python3.7/dist-packages (from jedi>=0.10->ipython>=4.0.0->ipywidgets->yasa) (0.8.3)\n",
            "Requirement already satisfied: wcwidth in /usr/local/lib/python3.7/dist-packages (from prompt-toolkit<2.1.0,>=2.0.0->ipython>=4.0.0->ipywidgets->yasa) (0.2.5)\n",
            "Requirement already satisfied: six>=1.9.0 in /usr/local/lib/python3.7/dist-packages (from prompt-toolkit<2.1.0,>=2.0.0->ipython>=4.0.0->ipywidgets->yasa) (1.15.0)\n",
            "Requirement already satisfied: notebook>=4.4.1 in /usr/local/lib/python3.7/dist-packages (from widgetsnbextension~=3.6.0->ipywidgets->yasa) (5.3.1)\n",
            "Requirement already satisfied: jupyter-core>=4.4.0 in /usr/local/lib/python3.7/dist-packages (from notebook>=4.4.1->widgetsnbextension~=3.6.0->ipywidgets->yasa) (4.11.1)\n",
            "Requirement already satisfied: nbconvert in /usr/local/lib/python3.7/dist-packages (from notebook>=4.4.1->widgetsnbextension~=3.6.0->ipywidgets->yasa) (5.6.1)\n",
            "Requirement already satisfied: terminado>=0.8.1 in /usr/local/lib/python3.7/dist-packages (from notebook>=4.4.1->widgetsnbextension~=3.6.0->ipywidgets->yasa) (0.13.3)\n",
            "Requirement already satisfied: nbformat in /usr/local/lib/python3.7/dist-packages (from notebook>=4.4.1->widgetsnbextension~=3.6.0->ipywidgets->yasa) (5.4.0)\n",
            "Requirement already satisfied: Send2Trash in /usr/local/lib/python3.7/dist-packages (from notebook>=4.4.1->widgetsnbextension~=3.6.0->ipywidgets->yasa) (1.8.0)\n",
            "Requirement already satisfied: python-dateutil>=2.1 in /usr/local/lib/python3.7/dist-packages (from jupyter-client->ipykernel>=4.5.1->ipywidgets->yasa) (2.8.2)\n",
            "Requirement already satisfied: pyzmq>=13 in /usr/local/lib/python3.7/dist-packages (from jupyter-client->ipykernel>=4.5.1->ipywidgets->yasa) (23.2.1)\n",
            "Requirement already satisfied: ptyprocess in /usr/local/lib/python3.7/dist-packages (from terminado>=0.8.1->notebook>=4.4.1->widgetsnbextension~=3.6.0->ipywidgets->yasa) (0.7.0)\n",
            "Requirement already satisfied: MarkupSafe>=0.23 in /usr/local/lib/python3.7/dist-packages (from jinja2->mne>=0.23->yasa) (2.0.1)\n",
            "Requirement already satisfied: cycler>=0.10 in /usr/local/lib/python3.7/dist-packages (from matplotlib->yasa) (0.11.0)\n",
            "Requirement already satisfied: kiwisolver>=1.0.1 in /usr/local/lib/python3.7/dist-packages (from matplotlib->yasa) (1.4.4)\n",
            "Requirement already satisfied: typing-extensions in /usr/local/lib/python3.7/dist-packages (from kiwisolver>=1.0.1->matplotlib->yasa) (4.1.1)\n",
            "Requirement already satisfied: mistune<2,>=0.8.1 in /usr/local/lib/python3.7/dist-packages (from nbconvert->notebook>=4.4.1->widgetsnbextension~=3.6.0->ipywidgets->yasa) (0.8.4)\n",
            "Requirement already satisfied: defusedxml in /usr/local/lib/python3.7/dist-packages (from nbconvert->notebook>=4.4.1->widgetsnbextension~=3.6.0->ipywidgets->yasa) (0.7.1)\n",
            "Requirement already satisfied: bleach in /usr/local/lib/python3.7/dist-packages (from nbconvert->notebook>=4.4.1->widgetsnbextension~=3.6.0->ipywidgets->yasa) (5.0.1)\n",
            "Requirement already satisfied: testpath in /usr/local/lib/python3.7/dist-packages (from nbconvert->notebook>=4.4.1->widgetsnbextension~=3.6.0->ipywidgets->yasa) (0.6.0)\n",
            "Requirement already satisfied: pandocfilters>=1.4.1 in /usr/local/lib/python3.7/dist-packages (from nbconvert->notebook>=4.4.1->widgetsnbextension~=3.6.0->ipywidgets->yasa) (1.5.0)\n",
            "Requirement already satisfied: entrypoints>=0.2.2 in /usr/local/lib/python3.7/dist-packages (from nbconvert->notebook>=4.4.1->widgetsnbextension~=3.6.0->ipywidgets->yasa) (0.4)\n",
            "Requirement already satisfied: jsonschema>=2.6 in /usr/local/lib/python3.7/dist-packages (from nbformat->notebook>=4.4.1->widgetsnbextension~=3.6.0->ipywidgets->yasa) (4.3.3)\n",
            "Requirement already satisfied: fastjsonschema in /usr/local/lib/python3.7/dist-packages (from nbformat->notebook>=4.4.1->widgetsnbextension~=3.6.0->ipywidgets->yasa) (2.16.1)\n",
            "Requirement already satisfied: importlib-resources>=1.4.0 in /usr/local/lib/python3.7/dist-packages (from jsonschema>=2.6->nbformat->notebook>=4.4.1->widgetsnbextension~=3.6.0->ipywidgets->yasa) (5.9.0)\n",
            "Requirement already satisfied: importlib-metadata in /usr/local/lib/python3.7/dist-packages (from jsonschema>=2.6->nbformat->notebook>=4.4.1->widgetsnbextension~=3.6.0->ipywidgets->yasa) (4.12.0)\n",
            "Requirement already satisfied: attrs>=17.4.0 in /usr/local/lib/python3.7/dist-packages (from jsonschema>=2.6->nbformat->notebook>=4.4.1->widgetsnbextension~=3.6.0->ipywidgets->yasa) (22.1.0)\n",
            "Requirement already satisfied: pyrsistent!=0.17.0,!=0.17.1,!=0.17.2,>=0.14.0 in /usr/local/lib/python3.7/dist-packages (from jsonschema>=2.6->nbformat->notebook>=4.4.1->widgetsnbextension~=3.6.0->ipywidgets->yasa) (0.18.1)\n",
            "Requirement already satisfied: zipp>=3.1.0 in /usr/local/lib/python3.7/dist-packages (from importlib-resources>=1.4.0->jsonschema>=2.6->nbformat->notebook>=4.4.1->widgetsnbextension~=3.6.0->ipywidgets->yasa) (3.8.1)\n",
            "Requirement already satisfied: webencodings in /usr/local/lib/python3.7/dist-packages (from bleach->nbconvert->notebook>=4.4.1->widgetsnbextension~=3.6.0->ipywidgets->yasa) (0.5.1)\n",
            "Requirement already satisfied: llvmlite<0.40,>=0.39.0dev0 in /usr/local/lib/python3.7/dist-packages (from numba->yasa) (0.39.1)\n",
            "Collecting littleutils\n",
            "  Downloading littleutils-0.2.2.tar.gz (6.6 kB)\n",
            "Requirement already satisfied: pytz>=2017.3 in /usr/local/lib/python3.7/dist-packages (from pandas->yasa) (2022.2.1)\n",
            "Requirement already satisfied: threadpoolctl>=2.0.0 in /usr/local/lib/python3.7/dist-packages (from scikit-learn->yasa) (3.1.0)\n",
            "Building wheels for collected packages: yasa, pyriemann, antropy, littleutils\n",
            "  Building wheel for yasa (setup.py) ... \u001b[?25l\u001b[?25hdone\n",
            "  Created wheel for yasa: filename=yasa-0.6.2-py3-none-any.whl size=33797167 sha256=5173aa06ace2b1c53029eac1371dadb3682609ffd67215beff37f58200200f54\n",
            "  Stored in directory: /root/.cache/pip/wheels/52/8c/9c/1352fced5b6240ed1e3669f477d7ce0e2fe693e28b7bcc45f4\n",
            "  Building wheel for pyriemann (setup.py) ... \u001b[?25l\u001b[?25hdone\n",
            "  Created wheel for pyriemann: filename=pyriemann-0.3-py2.py3-none-any.whl size=78033 sha256=4d665e20bb95c6a1283a775d395b65bdb18ddb608c669dd42174024f0237c6c1\n",
            "  Stored in directory: /root/.cache/pip/wheels/0b/1b/bf/a537f9e17e6c3490004ede419c72f863af1d0d765d25e532ef\n",
            "  Building wheel for antropy (setup.py) ... \u001b[?25l\u001b[?25hdone\n",
            "  Created wheel for antropy: filename=antropy-0.1.4-py3-none-any.whl size=16159 sha256=bc2ce39d7bbec15fc54a09da9a83250b71f9e1b6fb1297d8c6e734300ba06659\n",
            "  Stored in directory: /root/.cache/pip/wheels/d4/cc/6b/28fa7036bdabc6f1f92fd6a108ae259dbb48f107f676d6b491\n",
            "  Building wheel for littleutils (setup.py) ... \u001b[?25l\u001b[?25hdone\n",
            "  Created wheel for littleutils: filename=littleutils-0.2.2-py3-none-any.whl size=7048 sha256=30988aa315c7ceae721df9d4bf89145d63064f0ee842a2f080dfe9802b7eb85e\n",
            "  Stored in directory: /root/.cache/pip/wheels/d6/64/cd/32819b511a488e4993f2fab909a95330289c3f4e0f6ef4676d\n",
            "Successfully built yasa pyriemann antropy littleutils\n",
            "Installing collected packages: jedi, requests, stochastic, littleutils, tensorpac, sleepecg, pyriemann, outdated, mne, lspopt, antropy, yasa\n",
            "  Attempting uninstall: requests\n",
            "    Found existing installation: requests 2.23.0\n",
            "    Uninstalling requests-2.23.0:\n",
            "      Successfully uninstalled requests-2.23.0\n",
            "Successfully installed antropy-0.1.4 jedi-0.18.1 littleutils-0.2.2 lspopt-1.2.0 mne-1.1.1 outdated-0.2.1 pyriemann-0.3 requests-2.28.1 sleepecg-0.5.0 stochastic-0.6.0 tensorpac-0.6.5 yasa-0.6.2\n",
            "Looking in indexes: https://pypi.org/simple, https://us-python.pkg.dev/colab-wheels/public/simple/\n",
            "Requirement already satisfied: antropy in /usr/local/lib/python3.7/dist-packages (0.1.4)\n",
            "Requirement already satisfied: stochastic in /usr/local/lib/python3.7/dist-packages (from antropy) (0.6.0)\n",
            "Requirement already satisfied: scipy<2.0,>=1.3 in /usr/local/lib/python3.7/dist-packages (from stochastic->antropy) (1.7.3)\n",
            "Requirement already satisfied: numpy<2.0,>=1.17 in /usr/local/lib/python3.7/dist-packages (from stochastic->antropy) (1.21.6)\n"
          ]
        }
      ]
    },
    {
      "cell_type": "markdown",
      "metadata": {
        "id": "Lf3ckqjWbrB8"
      },
      "source": [
        "# Non-linear features\n",
        "\n",
        "This notebook demonstrates how to use YASA to calculate epoch-per-epoch non-linear features of a full-night single-channel EEG recording.\n",
        "\n",
        "Please make sure to install the latest version of YASA first by typing the following line in your terminal or command prompt:\n",
        "\n",
        "`pip install --upgrade yasa`\n",
        "\n",
        "In addition, you will also need to install the [AntroPy](https://github.com/raphaelvallat/antropy) package: `pip install --upgrade antropy`"
      ]
    },
    {
      "cell_type": "code",
      "source": [
        "#구글드라이브 공유폴더에서 불러오기\n",
        "!gdown --id 1z7uUvoDxHQhCCnIu48RwWspQy9mRRouV --output 02_data_full_6hrs_100Hz_Cz+Fz+Pz.npz"
      ],
      "metadata": {
        "id": "fwzgTo6Vb5uU",
        "outputId": "6b49d58e-6b8e-42d2-c3b3-6449ad82c553",
        "colab": {
          "base_uri": "https://localhost:8080/"
        }
      },
      "execution_count": 2,
      "outputs": [
        {
          "output_type": "stream",
          "name": "stdout",
          "text": [
            "/usr/local/lib/python3.7/dist-packages/gdown/cli.py:131: FutureWarning: Option `--id` was deprecated in version 4.3.1 and will be removed in 5.0. You don't need to pass it anymore to use a file ID.\n",
            "  category=FutureWarning,\n",
            "Downloading...\n",
            "From: https://drive.google.com/uc?id=1z7uUvoDxHQhCCnIu48RwWspQy9mRRouV\n",
            "To: /content/02_data_full_6hrs_100Hz_Cz+Fz+Pz.npz\n",
            "100% 14.7M/14.7M [00:00<00:00, 298MB/s]\n"
          ]
        }
      ]
    },
    {
      "cell_type": "code",
      "execution_count": 4,
      "metadata": {
        "id": "P4xAaCvZbrCQ",
        "outputId": "dc9578be-dd81-4700-e3de-71d5ed591748",
        "colab": {
          "base_uri": "https://localhost:8080/"
        }
      },
      "outputs": [
        {
          "output_type": "stream",
          "name": "stdout",
          "text": [
            "(2161058,) [15.797 22.307 39.922 25.657 27.094]\n"
          ]
        }
      ],
      "source": [
        "import yasa\n",
        "import numpy as np\n",
        "import pandas as pd\n",
        "import antropy as ant\n",
        "import matplotlib.pyplot as plt\n",
        "import seaborn as sns\n",
        "sns.set(font_scale=1.2)\n",
        "\n",
        "# Load EEG data\n",
        "f = np.load('/content/02_data_full_6hrs_100Hz_Cz+Fz+Pz.npz')\n",
        "data, ch_names = f['data'], f['chan']\n",
        "sf = 100.\n",
        "times = np.arange(data.size) / sf\n",
        "\n",
        "# Keep only Cz\n",
        "data = data[0, :]\n",
        "print(data.shape, np.round(data[0:5], 3))"
      ]
    },
    {
      "cell_type": "code",
      "execution_count": 5,
      "metadata": {
        "id": "bn_fh-HcbrCY",
        "outputId": "016a710a-31ff-4cd9-f5d5-ad7e2fcd42be",
        "colab": {
          "base_uri": "https://localhost:8080/"
        }
      },
      "outputs": [
        {
          "output_type": "stream",
          "name": "stdout",
          "text": [
            "(720,) Unique values = [0 1 2 3 4]\n"
          ]
        }
      ],
      "source": [
        "# Load the hypnogram data\n",
        "hypno = np.loadtxt('https://raw.githubusercontent.com/beneyoung/yasa_basic/main/spindle_notebooks/data/03_data_full_6hrs_100Hz_hypno_30s.txt').astype(int)\n",
        "print(hypno.shape, 'Unique values =', np.unique(hypno))"
      ]
    },
    {
      "cell_type": "code",
      "execution_count": 6,
      "metadata": {
        "id": "XOlECGyebrCb",
        "outputId": "7b68c9ba-41f2-4a82-bc7a-9b96083e0325",
        "colab": {
          "base_uri": "https://localhost:8080/"
        }
      },
      "outputs": [
        {
          "output_type": "execute_result",
          "data": {
            "text/plain": [
              "(720, 3000)"
            ]
          },
          "metadata": {},
          "execution_count": 6
        }
      ],
      "source": [
        "# Convert the EEG data to 30-sec data\n",
        "times, data_win = yasa.sliding_window(data, sf, window=30)\n",
        "\n",
        "# Convert times to minutes\n",
        "times /= 60\n",
        "\n",
        "data_win.shape"
      ]
    },
    {
      "cell_type": "markdown",
      "metadata": {
        "id": "viai_v89brCd"
      },
      "source": [
        "## Calculate non-linear features"
      ]
    },
    {
      "cell_type": "code",
      "execution_count": 7,
      "metadata": {
        "id": "DbJ5jZZUbrCe",
        "outputId": "fd24712f-5667-453c-ea6f-fba582736201",
        "colab": {
          "base_uri": "https://localhost:8080/",
          "height": 270
        }
      },
      "outputs": [
        {
          "output_type": "execute_result",
          "data": {
            "text/plain": [
              "   perm_entropy  svd_entropy  sample_entropy       dfa  petrosian      katz  \\\n",
              "0      0.993005     0.615179        0.992649  1.275455   1.027439  2.794894   \n",
              "1      0.993249     0.565308        0.858924  1.384108   1.027283  2.593635   \n",
              "2      0.993561     0.573424        0.773124  1.406985   1.027411  2.633458   \n",
              "3      0.998517     0.495381        0.166400  1.453336   1.028952  2.259923   \n",
              "4      0.991045     0.737926        1.332437  1.152280   1.026885  3.484544   \n",
              "\n",
              "    higuchi  \n",
              "0  1.743780  \n",
              "1  1.748034  \n",
              "2  1.721437  \n",
              "3  1.868283  \n",
              "4  1.769742  "
            ],
            "text/html": [
              "\n",
              "  <div id=\"df-b8e09180-82f2-4b50-8543-429c2acd29c0\">\n",
              "    <div class=\"colab-df-container\">\n",
              "      <div>\n",
              "<style scoped>\n",
              "    .dataframe tbody tr th:only-of-type {\n",
              "        vertical-align: middle;\n",
              "    }\n",
              "\n",
              "    .dataframe tbody tr th {\n",
              "        vertical-align: top;\n",
              "    }\n",
              "\n",
              "    .dataframe thead th {\n",
              "        text-align: right;\n",
              "    }\n",
              "</style>\n",
              "<table border=\"1\" class=\"dataframe\">\n",
              "  <thead>\n",
              "    <tr style=\"text-align: right;\">\n",
              "      <th></th>\n",
              "      <th>perm_entropy</th>\n",
              "      <th>svd_entropy</th>\n",
              "      <th>sample_entropy</th>\n",
              "      <th>dfa</th>\n",
              "      <th>petrosian</th>\n",
              "      <th>katz</th>\n",
              "      <th>higuchi</th>\n",
              "    </tr>\n",
              "  </thead>\n",
              "  <tbody>\n",
              "    <tr>\n",
              "      <th>0</th>\n",
              "      <td>0.993005</td>\n",
              "      <td>0.615179</td>\n",
              "      <td>0.992649</td>\n",
              "      <td>1.275455</td>\n",
              "      <td>1.027439</td>\n",
              "      <td>2.794894</td>\n",
              "      <td>1.743780</td>\n",
              "    </tr>\n",
              "    <tr>\n",
              "      <th>1</th>\n",
              "      <td>0.993249</td>\n",
              "      <td>0.565308</td>\n",
              "      <td>0.858924</td>\n",
              "      <td>1.384108</td>\n",
              "      <td>1.027283</td>\n",
              "      <td>2.593635</td>\n",
              "      <td>1.748034</td>\n",
              "    </tr>\n",
              "    <tr>\n",
              "      <th>2</th>\n",
              "      <td>0.993561</td>\n",
              "      <td>0.573424</td>\n",
              "      <td>0.773124</td>\n",
              "      <td>1.406985</td>\n",
              "      <td>1.027411</td>\n",
              "      <td>2.633458</td>\n",
              "      <td>1.721437</td>\n",
              "    </tr>\n",
              "    <tr>\n",
              "      <th>3</th>\n",
              "      <td>0.998517</td>\n",
              "      <td>0.495381</td>\n",
              "      <td>0.166400</td>\n",
              "      <td>1.453336</td>\n",
              "      <td>1.028952</td>\n",
              "      <td>2.259923</td>\n",
              "      <td>1.868283</td>\n",
              "    </tr>\n",
              "    <tr>\n",
              "      <th>4</th>\n",
              "      <td>0.991045</td>\n",
              "      <td>0.737926</td>\n",
              "      <td>1.332437</td>\n",
              "      <td>1.152280</td>\n",
              "      <td>1.026885</td>\n",
              "      <td>3.484544</td>\n",
              "      <td>1.769742</td>\n",
              "    </tr>\n",
              "  </tbody>\n",
              "</table>\n",
              "</div>\n",
              "      <button class=\"colab-df-convert\" onclick=\"convertToInteractive('df-b8e09180-82f2-4b50-8543-429c2acd29c0')\"\n",
              "              title=\"Convert this dataframe to an interactive table.\"\n",
              "              style=\"display:none;\">\n",
              "        \n",
              "  <svg xmlns=\"http://www.w3.org/2000/svg\" height=\"24px\"viewBox=\"0 0 24 24\"\n",
              "       width=\"24px\">\n",
              "    <path d=\"M0 0h24v24H0V0z\" fill=\"none\"/>\n",
              "    <path d=\"M18.56 5.44l.94 2.06.94-2.06 2.06-.94-2.06-.94-.94-2.06-.94 2.06-2.06.94zm-11 1L8.5 8.5l.94-2.06 2.06-.94-2.06-.94L8.5 2.5l-.94 2.06-2.06.94zm10 10l.94 2.06.94-2.06 2.06-.94-2.06-.94-.94-2.06-.94 2.06-2.06.94z\"/><path d=\"M17.41 7.96l-1.37-1.37c-.4-.4-.92-.59-1.43-.59-.52 0-1.04.2-1.43.59L10.3 9.45l-7.72 7.72c-.78.78-.78 2.05 0 2.83L4 21.41c.39.39.9.59 1.41.59.51 0 1.02-.2 1.41-.59l7.78-7.78 2.81-2.81c.8-.78.8-2.07 0-2.86zM5.41 20L4 18.59l7.72-7.72 1.47 1.35L5.41 20z\"/>\n",
              "  </svg>\n",
              "      </button>\n",
              "      \n",
              "  <style>\n",
              "    .colab-df-container {\n",
              "      display:flex;\n",
              "      flex-wrap:wrap;\n",
              "      gap: 12px;\n",
              "    }\n",
              "\n",
              "    .colab-df-convert {\n",
              "      background-color: #E8F0FE;\n",
              "      border: none;\n",
              "      border-radius: 50%;\n",
              "      cursor: pointer;\n",
              "      display: none;\n",
              "      fill: #1967D2;\n",
              "      height: 32px;\n",
              "      padding: 0 0 0 0;\n",
              "      width: 32px;\n",
              "    }\n",
              "\n",
              "    .colab-df-convert:hover {\n",
              "      background-color: #E2EBFA;\n",
              "      box-shadow: 0px 1px 2px rgba(60, 64, 67, 0.3), 0px 1px 3px 1px rgba(60, 64, 67, 0.15);\n",
              "      fill: #174EA6;\n",
              "    }\n",
              "\n",
              "    [theme=dark] .colab-df-convert {\n",
              "      background-color: #3B4455;\n",
              "      fill: #D2E3FC;\n",
              "    }\n",
              "\n",
              "    [theme=dark] .colab-df-convert:hover {\n",
              "      background-color: #434B5C;\n",
              "      box-shadow: 0px 1px 3px 1px rgba(0, 0, 0, 0.15);\n",
              "      filter: drop-shadow(0px 1px 2px rgba(0, 0, 0, 0.3));\n",
              "      fill: #FFFFFF;\n",
              "    }\n",
              "  </style>\n",
              "\n",
              "      <script>\n",
              "        const buttonEl =\n",
              "          document.querySelector('#df-b8e09180-82f2-4b50-8543-429c2acd29c0 button.colab-df-convert');\n",
              "        buttonEl.style.display =\n",
              "          google.colab.kernel.accessAllowed ? 'block' : 'none';\n",
              "\n",
              "        async function convertToInteractive(key) {\n",
              "          const element = document.querySelector('#df-b8e09180-82f2-4b50-8543-429c2acd29c0');\n",
              "          const dataTable =\n",
              "            await google.colab.kernel.invokeFunction('convertToInteractive',\n",
              "                                                     [key], {});\n",
              "          if (!dataTable) return;\n",
              "\n",
              "          const docLinkHtml = 'Like what you see? Visit the ' +\n",
              "            '<a target=\"_blank\" href=https://colab.research.google.com/notebooks/data_table.ipynb>data table notebook</a>'\n",
              "            + ' to learn more about interactive tables.';\n",
              "          element.innerHTML = '';\n",
              "          dataTable['output_type'] = 'display_data';\n",
              "          await google.colab.output.renderOutput(dataTable, element);\n",
              "          const docLink = document.createElement('div');\n",
              "          docLink.innerHTML = docLinkHtml;\n",
              "          element.appendChild(docLink);\n",
              "        }\n",
              "      </script>\n",
              "    </div>\n",
              "  </div>\n",
              "  "
            ]
          },
          "metadata": {},
          "execution_count": 7
        }
      ],
      "source": [
        "from numpy import apply_along_axis as apply\n",
        "\n",
        "df_feat = {\n",
        "    # Entropy\n",
        "    'perm_entropy': apply(ant.perm_entropy, axis=1, arr=data_win, normalize=True),\n",
        "    'svd_entropy': apply(ant.svd_entropy, 1, data_win, normalize=True),\n",
        "    'sample_entropy': apply(ant.sample_entropy, 1, data_win),\n",
        "    # Fractal dimension\n",
        "    'dfa': apply(ant.detrended_fluctuation, 1, data_win),\n",
        "    'petrosian': apply(ant.petrosian_fd, 1, data_win),\n",
        "    'katz': apply(ant.katz_fd, 1, data_win),\n",
        "    'higuchi': apply(ant.higuchi_fd, 1, data_win),\n",
        "}\n",
        "\n",
        "df_feat = pd.DataFrame(df_feat)\n",
        "df_feat.head()"
      ]
    },
    {
      "cell_type": "code",
      "execution_count": 8,
      "metadata": {
        "id": "LbHQCYMibrCh"
      },
      "outputs": [],
      "source": [
        "def lziv(x):\n",
        "    \"\"\"Binarize the EEG signal and calculate the Lempel-Ziv complexity.\n",
        "    \"\"\"\n",
        "    return ant.lziv_complexity(x > x.mean(), normalize=True)\n",
        "\n",
        "df_feat['lziv'] = apply(lziv, 1, data_win)"
      ]
    },
    {
      "cell_type": "markdown",
      "metadata": {
        "id": "1IdF1SyvbrCk"
      },
      "source": [
        "## Add classic spectral power"
      ]
    },
    {
      "cell_type": "code",
      "execution_count": 9,
      "metadata": {
        "id": "XmVRHLHKbrCm",
        "outputId": "98d8a03a-23fd-4f45-c981-9ff0007adfed",
        "colab": {
          "base_uri": "https://localhost:8080/",
          "height": 270
        }
      },
      "outputs": [
        {
          "output_type": "execute_result",
          "data": {
            "text/plain": [
              "   perm_entropy  svd_entropy  sample_entropy       dfa  petrosian      katz  \\\n",
              "0      0.993005     0.615179        0.992649  1.275455   1.027439  2.794894   \n",
              "1      0.993249     0.565308        0.858924  1.384108   1.027283  2.593635   \n",
              "2      0.993561     0.573424        0.773124  1.406985   1.027411  2.633458   \n",
              "3      0.998517     0.495381        0.166400  1.453336   1.028952  2.259923   \n",
              "4      0.991045     0.737926        1.332437  1.152280   1.026885  3.484544   \n",
              "\n",
              "    higuchi      lziv     delta     theta     alpha     sigma      beta  \\\n",
              "0  1.743780  0.565987  0.696338  0.116689  0.066675  0.020174  0.068901   \n",
              "1  1.748034  0.400426  0.802190  0.068789  0.045489  0.015227  0.045956   \n",
              "2  1.721437  0.550586  0.877757  0.047858  0.021888  0.007310  0.028541   \n",
              "3  1.868283  0.431228  0.697172  0.024946  0.041486  0.025344  0.108747   \n",
              "4  1.769742  0.539035  0.690355  0.098202  0.069255  0.023337  0.082457   \n",
              "\n",
              "      gamma  \n",
              "0  0.031222  \n",
              "1  0.022349  \n",
              "2  0.016645  \n",
              "3  0.102304  \n",
              "4  0.036393  "
            ],
            "text/html": [
              "\n",
              "  <div id=\"df-24042f9d-920f-4ecb-bbd1-06476c9f686f\">\n",
              "    <div class=\"colab-df-container\">\n",
              "      <div>\n",
              "<style scoped>\n",
              "    .dataframe tbody tr th:only-of-type {\n",
              "        vertical-align: middle;\n",
              "    }\n",
              "\n",
              "    .dataframe tbody tr th {\n",
              "        vertical-align: top;\n",
              "    }\n",
              "\n",
              "    .dataframe thead th {\n",
              "        text-align: right;\n",
              "    }\n",
              "</style>\n",
              "<table border=\"1\" class=\"dataframe\">\n",
              "  <thead>\n",
              "    <tr style=\"text-align: right;\">\n",
              "      <th></th>\n",
              "      <th>perm_entropy</th>\n",
              "      <th>svd_entropy</th>\n",
              "      <th>sample_entropy</th>\n",
              "      <th>dfa</th>\n",
              "      <th>petrosian</th>\n",
              "      <th>katz</th>\n",
              "      <th>higuchi</th>\n",
              "      <th>lziv</th>\n",
              "      <th>delta</th>\n",
              "      <th>theta</th>\n",
              "      <th>alpha</th>\n",
              "      <th>sigma</th>\n",
              "      <th>beta</th>\n",
              "      <th>gamma</th>\n",
              "    </tr>\n",
              "  </thead>\n",
              "  <tbody>\n",
              "    <tr>\n",
              "      <th>0</th>\n",
              "      <td>0.993005</td>\n",
              "      <td>0.615179</td>\n",
              "      <td>0.992649</td>\n",
              "      <td>1.275455</td>\n",
              "      <td>1.027439</td>\n",
              "      <td>2.794894</td>\n",
              "      <td>1.743780</td>\n",
              "      <td>0.565987</td>\n",
              "      <td>0.696338</td>\n",
              "      <td>0.116689</td>\n",
              "      <td>0.066675</td>\n",
              "      <td>0.020174</td>\n",
              "      <td>0.068901</td>\n",
              "      <td>0.031222</td>\n",
              "    </tr>\n",
              "    <tr>\n",
              "      <th>1</th>\n",
              "      <td>0.993249</td>\n",
              "      <td>0.565308</td>\n",
              "      <td>0.858924</td>\n",
              "      <td>1.384108</td>\n",
              "      <td>1.027283</td>\n",
              "      <td>2.593635</td>\n",
              "      <td>1.748034</td>\n",
              "      <td>0.400426</td>\n",
              "      <td>0.802190</td>\n",
              "      <td>0.068789</td>\n",
              "      <td>0.045489</td>\n",
              "      <td>0.015227</td>\n",
              "      <td>0.045956</td>\n",
              "      <td>0.022349</td>\n",
              "    </tr>\n",
              "    <tr>\n",
              "      <th>2</th>\n",
              "      <td>0.993561</td>\n",
              "      <td>0.573424</td>\n",
              "      <td>0.773124</td>\n",
              "      <td>1.406985</td>\n",
              "      <td>1.027411</td>\n",
              "      <td>2.633458</td>\n",
              "      <td>1.721437</td>\n",
              "      <td>0.550586</td>\n",
              "      <td>0.877757</td>\n",
              "      <td>0.047858</td>\n",
              "      <td>0.021888</td>\n",
              "      <td>0.007310</td>\n",
              "      <td>0.028541</td>\n",
              "      <td>0.016645</td>\n",
              "    </tr>\n",
              "    <tr>\n",
              "      <th>3</th>\n",
              "      <td>0.998517</td>\n",
              "      <td>0.495381</td>\n",
              "      <td>0.166400</td>\n",
              "      <td>1.453336</td>\n",
              "      <td>1.028952</td>\n",
              "      <td>2.259923</td>\n",
              "      <td>1.868283</td>\n",
              "      <td>0.431228</td>\n",
              "      <td>0.697172</td>\n",
              "      <td>0.024946</td>\n",
              "      <td>0.041486</td>\n",
              "      <td>0.025344</td>\n",
              "      <td>0.108747</td>\n",
              "      <td>0.102304</td>\n",
              "    </tr>\n",
              "    <tr>\n",
              "      <th>4</th>\n",
              "      <td>0.991045</td>\n",
              "      <td>0.737926</td>\n",
              "      <td>1.332437</td>\n",
              "      <td>1.152280</td>\n",
              "      <td>1.026885</td>\n",
              "      <td>3.484544</td>\n",
              "      <td>1.769742</td>\n",
              "      <td>0.539035</td>\n",
              "      <td>0.690355</td>\n",
              "      <td>0.098202</td>\n",
              "      <td>0.069255</td>\n",
              "      <td>0.023337</td>\n",
              "      <td>0.082457</td>\n",
              "      <td>0.036393</td>\n",
              "    </tr>\n",
              "  </tbody>\n",
              "</table>\n",
              "</div>\n",
              "      <button class=\"colab-df-convert\" onclick=\"convertToInteractive('df-24042f9d-920f-4ecb-bbd1-06476c9f686f')\"\n",
              "              title=\"Convert this dataframe to an interactive table.\"\n",
              "              style=\"display:none;\">\n",
              "        \n",
              "  <svg xmlns=\"http://www.w3.org/2000/svg\" height=\"24px\"viewBox=\"0 0 24 24\"\n",
              "       width=\"24px\">\n",
              "    <path d=\"M0 0h24v24H0V0z\" fill=\"none\"/>\n",
              "    <path d=\"M18.56 5.44l.94 2.06.94-2.06 2.06-.94-2.06-.94-.94-2.06-.94 2.06-2.06.94zm-11 1L8.5 8.5l.94-2.06 2.06-.94-2.06-.94L8.5 2.5l-.94 2.06-2.06.94zm10 10l.94 2.06.94-2.06 2.06-.94-2.06-.94-.94-2.06-.94 2.06-2.06.94z\"/><path d=\"M17.41 7.96l-1.37-1.37c-.4-.4-.92-.59-1.43-.59-.52 0-1.04.2-1.43.59L10.3 9.45l-7.72 7.72c-.78.78-.78 2.05 0 2.83L4 21.41c.39.39.9.59 1.41.59.51 0 1.02-.2 1.41-.59l7.78-7.78 2.81-2.81c.8-.78.8-2.07 0-2.86zM5.41 20L4 18.59l7.72-7.72 1.47 1.35L5.41 20z\"/>\n",
              "  </svg>\n",
              "      </button>\n",
              "      \n",
              "  <style>\n",
              "    .colab-df-container {\n",
              "      display:flex;\n",
              "      flex-wrap:wrap;\n",
              "      gap: 12px;\n",
              "    }\n",
              "\n",
              "    .colab-df-convert {\n",
              "      background-color: #E8F0FE;\n",
              "      border: none;\n",
              "      border-radius: 50%;\n",
              "      cursor: pointer;\n",
              "      display: none;\n",
              "      fill: #1967D2;\n",
              "      height: 32px;\n",
              "      padding: 0 0 0 0;\n",
              "      width: 32px;\n",
              "    }\n",
              "\n",
              "    .colab-df-convert:hover {\n",
              "      background-color: #E2EBFA;\n",
              "      box-shadow: 0px 1px 2px rgba(60, 64, 67, 0.3), 0px 1px 3px 1px rgba(60, 64, 67, 0.15);\n",
              "      fill: #174EA6;\n",
              "    }\n",
              "\n",
              "    [theme=dark] .colab-df-convert {\n",
              "      background-color: #3B4455;\n",
              "      fill: #D2E3FC;\n",
              "    }\n",
              "\n",
              "    [theme=dark] .colab-df-convert:hover {\n",
              "      background-color: #434B5C;\n",
              "      box-shadow: 0px 1px 3px 1px rgba(0, 0, 0, 0.15);\n",
              "      filter: drop-shadow(0px 1px 2px rgba(0, 0, 0, 0.3));\n",
              "      fill: #FFFFFF;\n",
              "    }\n",
              "  </style>\n",
              "\n",
              "      <script>\n",
              "        const buttonEl =\n",
              "          document.querySelector('#df-24042f9d-920f-4ecb-bbd1-06476c9f686f button.colab-df-convert');\n",
              "        buttonEl.style.display =\n",
              "          google.colab.kernel.accessAllowed ? 'block' : 'none';\n",
              "\n",
              "        async function convertToInteractive(key) {\n",
              "          const element = document.querySelector('#df-24042f9d-920f-4ecb-bbd1-06476c9f686f');\n",
              "          const dataTable =\n",
              "            await google.colab.kernel.invokeFunction('convertToInteractive',\n",
              "                                                     [key], {});\n",
              "          if (!dataTable) return;\n",
              "\n",
              "          const docLinkHtml = 'Like what you see? Visit the ' +\n",
              "            '<a target=\"_blank\" href=https://colab.research.google.com/notebooks/data_table.ipynb>data table notebook</a>'\n",
              "            + ' to learn more about interactive tables.';\n",
              "          element.innerHTML = '';\n",
              "          dataTable['output_type'] = 'display_data';\n",
              "          await google.colab.output.renderOutput(dataTable, element);\n",
              "          const docLink = document.createElement('div');\n",
              "          docLink.innerHTML = docLinkHtml;\n",
              "          element.appendChild(docLink);\n",
              "        }\n",
              "      </script>\n",
              "    </div>\n",
              "  </div>\n",
              "  "
            ]
          },
          "metadata": {},
          "execution_count": 9
        }
      ],
      "source": [
        "from scipy.signal import welch\n",
        "freqs, psd = welch(data_win, sf, nperseg=int(4 * sf))\n",
        "bp = yasa.bandpower_from_psd_ndarray(psd, freqs)\n",
        "bp = pd.DataFrame(bp.T, columns=['delta', 'theta', 'alpha', 'sigma', 'beta', 'gamma'])\n",
        "df_feat = pd.concat([df_feat, bp], axis=1)\n",
        "df_feat.head()"
      ]
    },
    {
      "cell_type": "code",
      "execution_count": 10,
      "metadata": {
        "id": "TtqbWspFbrCp"
      },
      "outputs": [],
      "source": [
        "# Ratio of spectral power\n",
        "df_feat.eval('dt = delta / theta', inplace=True)\n",
        "df_feat.eval('db = delta / beta', inplace=True)\n",
        "df_feat.eval('at = alpha / theta', inplace=True)"
      ]
    },
    {
      "cell_type": "markdown",
      "metadata": {
        "id": "EXtjjBVfbrCr"
      },
      "source": [
        "## Find best features for sleep stage classification"
      ]
    },
    {
      "cell_type": "code",
      "execution_count": 11,
      "metadata": {
        "id": "cHN-K2J6brCs",
        "outputId": "80a35986-c04c-465e-c889-4ea503517701",
        "colab": {
          "base_uri": "https://localhost:8080/",
          "height": 405
        }
      },
      "outputs": [
        {
          "output_type": "display_data",
          "data": {
            "text/plain": [
              "<Figure size 432x432 with 1 Axes>"
            ],
            "image/png": "[encoded data removed]"
          },
          "metadata": {}
        }
      ],
      "source": [
        "from sklearn.feature_selection import f_classif\n",
        "\n",
        "# Extract sorted F-values\n",
        "fvals = pd.Series(f_classif(X=df_feat, y=hypno)[0], \n",
        "                  index=df_feat.columns\n",
        "                 ).sort_values()\n",
        "\n",
        "# Plot best features\n",
        "plt.figure(figsize=(6, 6))\n",
        "sns.barplot(y=fvals.index, x=fvals, palette='RdYlGn')\n",
        "plt.xlabel('F-values')\n",
        "plt.xticks(rotation=20);"
      ]
    },
    {
      "cell_type": "code",
      "execution_count": 12,
      "metadata": {
        "id": "wDByNGuSbrCu",
        "outputId": "c5594ffa-0ada-461b-8472-1efe1ecf606e",
        "colab": {
          "base_uri": "https://localhost:8080/",
          "height": 355
        }
      },
      "outputs": [
        {
          "output_type": "display_data",
          "data": {
            "text/plain": [
              "<Figure size 864x432 with 2 Axes>"
            ],
            "image/png": "[encoded data removed]"
          },
          "metadata": {}
        }
      ],
      "source": [
        "# Plot hypnogram and higuchi\n",
        "fig, (ax1, ax2) = plt.subplots(2, 1, figsize=(12, 6), sharex=True)\n",
        "\n",
        "hypno = pd.Series(hypno).map({-1: -1, 0: 0, 1: 2, 2: 3, 3: 4, 4: 1}).values\n",
        "hypno_rem = np.ma.masked_not_equal(hypno, 1)\n",
        "\n",
        "# Plot the hypnogram\n",
        "ax1.step(times, -1 * hypno, color='k', lw=1.5)\n",
        "ax1.step(times, -1 * hypno_rem, color='r', lw=2.5)\n",
        "ax1.set_yticks([0, -1, -2, -3, -4])\n",
        "ax1.set_yticklabels(['W', 'R', 'N1', 'N2', 'N3'])\n",
        "ax1.set_ylim(-4.5, 0.5)\n",
        "ax1.set_ylabel('Sleep stage')\n",
        "\n",
        "# Plot the non-linear feature\n",
        "ax2.plot(times, df_feat['higuchi'])\n",
        "ax2.set_ylabel('Higuchi Fractal Dimension')\n",
        "ax2.set_xlabel('Time [minutes]')\n",
        "\n",
        "ax2.set_xlim(0, times[-1]);"
      ]
    }
  ],
  "metadata": {
    "kernelspec": {
      "display_name": "Python 3",
      "language": "python",
      "name": "python3"
    },
    "language_info": {
      "codemirror_mode": {
        "name": "ipython",
        "version": 3
      },
      "file_extension": ".py",
      "mimetype": "text/x-python",
      "name": "python",
      "nbconvert_exporter": "python",
      "pygments_lexer": "ipython3",
      "version": "3.8.3"
    },
    "colab": {
      "provenance": []
    }
  },
  "nbformat": 4,
  "nbformat_minor": 0
}